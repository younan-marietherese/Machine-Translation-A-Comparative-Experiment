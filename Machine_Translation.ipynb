{
  "nbformat": 4,
  "nbformat_minor": 0,
  "metadata": {
    "colab": {
      "provenance": []
    },
    "kernelspec": {
      "name": "python3",
      "display_name": "Python 3"
    },
    "language_info": {
      "name": "python"
    }
  },
  "cells": [
    {
      "cell_type": "markdown",
      "source": [
        "***Please Note that, I used the link of the dataset in this Notebook and didn't attach it in a file while submission because Moodle didn't allow me to upload it since it is a huge dataset. Thank you ***"
      ],
      "metadata": {
        "id": "dSMw-mIN01Au"
      }
    },
    {
      "cell_type": "markdown",
      "source": [
        "***Week 4 - NLP - Assignment: Machine Translation: A Comparative Experiment***"
      ],
      "metadata": {
        "id": "a4ADT1MDZ6sk"
      }
    },
    {
      "cell_type": "markdown",
      "source": [
        "Questions:\n",
        "\n",
        "1- Select two tools for MT (some are listed already in the slides)\n",
        "\n",
        "2- Select a corpus dedicated for MT (some are also listed in the slides)\n",
        "\n",
        "3- Apply translation using each of the tools,\n",
        "\n",
        "Evaluate the results using BLEU score.\n",
        "\n",
        "4- Compare between the results, include a graphical comparison (using matplotlib, for example)\n",
        "\n",
        "5- Comment on the results, explain the difference if any and the reason one tool performed better than the other in your opinion.\n",
        "\n",
        "You can always build your own translation model if you have corpus for that purpose.\n",
        "\n",
        "Make sure to include comments in your code and to explain what’s happening in each cell otherwise the activity will be penalized."
      ],
      "metadata": {
        "id": "GrKKWG6GaGgb"
      }
    },
    {
      "cell_type": "markdown",
      "source": [
        "***Step 1 - Download and Prepare the Dataset***\n",
        "\n"
      ],
      "metadata": {
        "id": "wHo62PQmWcN8"
      }
    },
    {
      "cell_type": "code",
      "execution_count": 1,
      "metadata": {
        "colab": {
          "base_uri": "https://localhost:8080/"
        },
        "id": "ZwqT7321ORCk",
        "outputId": "309ec5ae-11ab-41e2-e8c3-322ba58233cb"
      },
      "outputs": [
        {
          "output_type": "stream",
          "name": "stdout",
          "text": [
            "Dataset downloaded and saved as ar-en.tmx.gz\n"
          ]
        }
      ],
      "source": [
        "#download and prepare the Dataset\n",
        "#imports\n",
        "import requests\n",
        "import gzip\n",
        "import xml.etree.ElementTree as ET\n",
        "import gc\n",
        "\n",
        "#define the url and file name\n",
        "dataset_url = \"https://object.pouta.csc.fi/OPUS-OpenSubtitles/v2018/tmx/ar-en.tmx.gz\"\n",
        "file_name = \"ar-en.tmx.gz\"\n",
        "\n",
        "#download the dataset\n",
        "def download_dataset(url, file_name):\n",
        "    response = requests.get(url)\n",
        "    with open(file_name, 'wb') as f:\n",
        "        f.write(response.content)\n",
        "    print(f\"Dataset downloaded and saved as {file_name}\")\n",
        "    del response  #free memory after downloading\n",
        "    gc.collect()\n",
        "\n",
        "download_dataset(dataset_url, file_name)"
      ]
    },
    {
      "cell_type": "markdown",
      "source": [
        "The OPUS OpenSubtitles 2018 Arabic-English parallel corpus, which includes sentence pairs in both Arabic and English, was downloaded in this step.\n",
        "\n",
        "Because it offers real-world translations that can be compared with translations created by machines, this dataset is helpful for assessing machine translation technologies.\n"
      ],
      "metadata": {
        "id": "GBW9U2NxVdca"
      }
    },
    {
      "cell_type": "markdown",
      "source": [
        "***Step 2 - Load the Corpus in Batches***"
      ],
      "metadata": {
        "id": "TfSRX8xTW18t"
      }
    },
    {
      "cell_type": "code",
      "source": [
        "#define the XML namespace for TMX files\n",
        "namespaces = {'xml': 'http://www.w3.org/XML/1998/namespace'}\n",
        "\n",
        "#load the corpus in batches\n",
        "def load_corpus_in_batches(file_path, batch_size=100):\n",
        "    with gzip.open(file_path, 'rb') as f:\n",
        "        tree = ET.iterparse(f, events=('start', 'end'))\n",
        "        translations = []\n",
        "        count = 0\n",
        "        for event, elem in tree:\n",
        "            if event == 'end' and elem.tag == 'tu':\n",
        "                #find Arabic and English translations using the namespace\n",
        "                arabic_text = elem.find('tuv[@xml:lang=\"ar\"]/seg', namespaces).text\n",
        "                english_text = elem.find('tuv[@xml:lang=\"en\"]/seg', namespaces).text\n",
        "                translations.append((arabic_text, english_text))\n",
        "\n",
        "                #process in batches\n",
        "                count += 1\n",
        "                if count % batch_size == 0:\n",
        "                    yield translations\n",
        "                    translations = []  #clear the batch for next batch\n",
        "\n",
        "                elem.clear()  #clear memory\n",
        "\n",
        "        #yield any remaining translations\n",
        "        if translations:\n",
        "            yield translations\n",
        "        del tree, elem  #free memory\n",
        "        gc.collect()\n",
        "\n",
        "#process the batches\n",
        "for batch in load_corpus_in_batches(file_name, batch_size=100):\n",
        "    print(f\"Processing batch of {len(batch)} sentences.\")\n",
        "    break\n"
      ],
      "metadata": {
        "colab": {
          "base_uri": "https://localhost:8080/"
        },
        "id": "wKaY3OeLPR89",
        "outputId": "cc1a8ce4-75b7-473c-e3cf-76855b3d62c3"
      },
      "execution_count": 2,
      "outputs": [
        {
          "output_type": "stream",
          "name": "stdout",
          "text": [
            "Processing batch of 100 sentences.\n"
          ]
        }
      ]
    },
    {
      "cell_type": "markdown",
      "source": [
        "The OPUS OpenSubtitles 2018 dataset was parsed in this step, and the sentence pairings were loaded in manageable batches.\n",
        "\n",
        "This avoids loading the whole dataset, especially for large datasets all at once into memory, which could lead to performance problems."
      ],
      "metadata": {
        "id": "OnOYn_IkXUMS"
      }
    },
    {
      "cell_type": "markdown",
      "source": [
        "***Step 3 - Select two MT Tools***"
      ],
      "metadata": {
        "id": "KiZzOdlBXmgW"
      }
    },
    {
      "cell_type": "markdown",
      "source": [
        "We chose two machine translation tools: the popular general-purpose translator Google Translate and the neural machine translation (NMT) model OPUS-MT. Both tools have the ability to translate from Arabic to English.\n",
        "\n",
        "1- Google Translate: A popular all-purpose translation application that translates between several languages using neural networks.\n",
        "\n",
        "2- OPUS-MT: A neural machine translation (NMT) model trained on big parallel corpora and intended for high-quality translations.\n",
        "\n"
      ],
      "metadata": {
        "id": "fg23xLTgVpX5"
      }
    },
    {
      "cell_type": "code",
      "source": [
        "pip install googletrans==4.0.0-rc1"
      ],
      "metadata": {
        "colab": {
          "base_uri": "https://localhost:8080/"
        },
        "id": "Zluz7bu5RLjq",
        "outputId": "959b86de-1685-447a-ad81-04368fe8200f"
      },
      "execution_count": 3,
      "outputs": [
        {
          "output_type": "stream",
          "name": "stdout",
          "text": [
            "Requirement already satisfied: googletrans==4.0.0-rc1 in /usr/local/lib/python3.10/dist-packages (4.0.0rc1)\n",
            "Requirement already satisfied: httpx==0.13.3 in /usr/local/lib/python3.10/dist-packages (from googletrans==4.0.0-rc1) (0.13.3)\n",
            "Requirement already satisfied: certifi in /usr/local/lib/python3.10/dist-packages (from httpx==0.13.3->googletrans==4.0.0-rc1) (2024.8.30)\n",
            "Requirement already satisfied: hstspreload in /usr/local/lib/python3.10/dist-packages (from httpx==0.13.3->googletrans==4.0.0-rc1) (2024.9.1)\n",
            "Requirement already satisfied: sniffio in /usr/local/lib/python3.10/dist-packages (from httpx==0.13.3->googletrans==4.0.0-rc1) (1.3.1)\n",
            "Requirement already satisfied: chardet==3.* in /usr/local/lib/python3.10/dist-packages (from httpx==0.13.3->googletrans==4.0.0-rc1) (3.0.4)\n",
            "Requirement already satisfied: idna==2.* in /usr/local/lib/python3.10/dist-packages (from httpx==0.13.3->googletrans==4.0.0-rc1) (2.10)\n",
            "Requirement already satisfied: rfc3986<2,>=1.3 in /usr/local/lib/python3.10/dist-packages (from httpx==0.13.3->googletrans==4.0.0-rc1) (1.5.0)\n",
            "Requirement already satisfied: httpcore==0.9.* in /usr/local/lib/python3.10/dist-packages (from httpx==0.13.3->googletrans==4.0.0-rc1) (0.9.1)\n",
            "Requirement already satisfied: h11<0.10,>=0.8 in /usr/local/lib/python3.10/dist-packages (from httpcore==0.9.*->httpx==0.13.3->googletrans==4.0.0-rc1) (0.9.0)\n",
            "Requirement already satisfied: h2==3.* in /usr/local/lib/python3.10/dist-packages (from httpcore==0.9.*->httpx==0.13.3->googletrans==4.0.0-rc1) (3.2.0)\n",
            "Requirement already satisfied: hyperframe<6,>=5.2.0 in /usr/local/lib/python3.10/dist-packages (from h2==3.*->httpcore==0.9.*->httpx==0.13.3->googletrans==4.0.0-rc1) (5.2.0)\n",
            "Requirement already satisfied: hpack<4,>=3.0 in /usr/local/lib/python3.10/dist-packages (from h2==3.*->httpcore==0.9.*->httpx==0.13.3->googletrans==4.0.0-rc1) (3.0.0)\n"
          ]
        }
      ]
    },
    {
      "cell_type": "code",
      "source": [
        "#step 3.1 - Google Translate\n",
        "from googletrans import Translator\n",
        "\n",
        "#function to perform translation using Google Translate\n",
        "def google_translate(text, source_lang='ar', target_lang='en'):\n",
        "    translator = Translator()\n",
        "    result = translator.translate(text, src=source_lang, dest=target_lang)\n",
        "    return result.text\n",
        "\n",
        "#process translations with Google Translate\n",
        "def process_google_translate_batch(batch):\n",
        "    for arabic_sentence, english_reference in batch:\n",
        "        google_translation = google_translate(arabic_sentence)\n",
        "        print(f\"Google Translate Translation: {google_translation}\")\n",
        "        print(f\"Reference: {english_reference}\")\n",
        "    del batch  #free memory after processing batch\n",
        "    gc.collect()\n",
        "\n",
        "#lets take an example - run Google Translate for the first batch\n",
        "for batch in load_corpus_in_batches(file_name, batch_size=5):\n",
        "    process_google_translate_batch(batch)\n",
        "    break\n"
      ],
      "metadata": {
        "colab": {
          "base_uri": "https://localhost:8080/"
        },
        "id": "r4bI2Xv3RENO",
        "outputId": "23524585-98dd-47d1-d744-25038d51beda"
      },
      "execution_count": 4,
      "outputs": [
        {
          "output_type": "stream",
          "name": "stdout",
          "text": [
            "Google Translate Translation: The weather is the last thing that really is on the ground.\n",
            "Reference: The weather is the last truly wild thing on Earth.\n",
            "Google Translate Translation: We cannot signs it and we cannot surround it.\n",
            "Reference: We can't predict it and we can't control it.\n",
            "Google Translate Translation: I am Donal McClentire, and I will travel around the world to search for the most brutal weather there.\n",
            "Reference: I'm Donal Maclntyre, and I'm going to journey around the world to seek out the wildest weather there is.\n",
            "Google Translate Translation: In this series, I will face the fastest wind on Earth.\n",
            "Reference: In this series, I'm going to experience the fastest winds on Earth.\n",
            "Google Translate Translation: One hundred and thirty -six miles per hour.\n",
            "Reference: 136 miles an hour.\n"
          ]
        }
      ]
    },
    {
      "cell_type": "markdown",
      "source": [
        "Observations:\n",
        "\n",
        "1- Google Translate Translation: \"The weather is the last thing that really is on the ground\".\n",
        "\n",
        "Reference: \"The weather is the last truly wild thing on Earth\".\n",
        "\n",
        "Comment: Although the translation accurately conveys the meaning, it slightly mistranslates \"wild thing\" as \"thing on the ground\".\n",
        "\n",
        "2- Google Translate Translation: \"We cannot signs it and we cannot surround it\".\n",
        "\n",
        "Reference: \"We can't predict it and we can't control it\".\n",
        "\n",
        "Comment: For \"predict\" and \"control\", the translation is wrong, but the phrase structure is still valid.\n",
        "\n",
        "3- Google Translate Translation: \"I am Donal McClentire, and I will travel around the world to search for the most brutal weather there\".\n",
        "\n",
        "Reference: \"I'm Donal Maclntyre, and I'm going to journey around the world to seek out the wildest weather there is\".\n",
        "\n",
        "Comment: \"Brutal weather\" is not exactly the same as \"wildest weather\", but it is rather close. The translation affected the name somewhat.\n",
        "\n",
        "4- Google Translate Translation: \"In this series, I will face the fastest wind on Earth\".\n",
        "\n",
        "Reference: \"In this series, I'm going to experience the fastest winds on Earth\".\n",
        "\n",
        "Comment: This is a good translation; the wording is a little different, but the overall point is the same.\n",
        "\n",
        "5- Google Translate Translation: \"One hundred and thirty-six miles per hour\".\n",
        "\n",
        "Reference: \"136 miles an hour\".\n",
        "\n",
        "Comment: This is a perfect translation."
      ],
      "metadata": {
        "id": "fxTIQRRaR2Mn"
      }
    },
    {
      "cell_type": "code",
      "source": [
        "#Step 3.2 - Translation Using OPUS-MT\n",
        "from transformers import MarianMTModel, MarianTokenizer\n",
        "import gc\n",
        "\n",
        "#load OPUS-MT model for Arabic to English translation\n",
        "model_name = 'Helsinki-NLP/opus-mt-ar-en'\n",
        "tokenizer = MarianTokenizer.from_pretrained(model_name)\n",
        "model = MarianMTModel.from_pretrained(model_name)\n",
        "\n",
        "#function to perform OPUS-MT translation\n",
        "def opus_mt_translate(text):\n",
        "    inputs = tokenizer(text, return_tensors=\"pt\", padding=True)\n",
        "    translated = model.generate(**inputs)\n",
        "    translated_text = [tokenizer.decode(t, skip_special_tokens=True) for t in translated]\n",
        "    return translated_text[0]\n",
        "\n",
        "#process OPUS-MT translations for a batch\n",
        "def process_opus_mt_batch(batch):\n",
        "    for arabic_sentence, english_reference in batch:\n",
        "        opus_mt_translation = opus_mt_translate(arabic_sentence)\n",
        "        print(f\"OPUS-MT Translation: {opus_mt_translation}\")\n",
        "        print(f\"Reference: {english_reference}\")\n",
        "    del batch  #free memory after processing batch\n",
        "    gc.collect()\n",
        "\n",
        "#lets take an example - run OPUS-MT translations for the first batch\n",
        "for batch in load_corpus_in_batches(file_name, batch_size=5):\n",
        "    process_opus_mt_batch(batch)\n",
        "    break\n"
      ],
      "metadata": {
        "colab": {
          "base_uri": "https://localhost:8080/"
        },
        "id": "5sC1gZyHPiQE",
        "outputId": "2f92ada8-41e1-4df5-8bb5-ca857e5e2a04"
      },
      "execution_count": 5,
      "outputs": [
        {
          "output_type": "stream",
          "name": "stderr",
          "text": [
            "/usr/local/lib/python3.10/dist-packages/huggingface_hub/utils/_token.py:89: UserWarning: \n",
            "The secret `HF_TOKEN` does not exist in your Colab secrets.\n",
            "To authenticate with the Hugging Face Hub, create a token in your settings tab (https://huggingface.co/settings/tokens), set it as secret in your Google Colab and restart your session.\n",
            "You will be able to reuse this secret in all of your notebooks.\n",
            "Please note that authentication is recommended but still optional to access public models or datasets.\n",
            "  warnings.warn(\n",
            "/usr/local/lib/python3.10/dist-packages/transformers/models/marian/tokenization_marian.py:175: UserWarning: Recommended: pip install sacremoses.\n",
            "  warnings.warn(\"Recommended: pip install sacremoses.\")\n",
            "/usr/local/lib/python3.10/dist-packages/transformers/tokenization_utils_base.py:1601: FutureWarning: `clean_up_tokenization_spaces` was not set. It will be set to `True` by default. This behavior will be depracted in transformers v4.45, and will be then set to `False` by default. For more details check this issue: https://github.com/huggingface/transformers/issues/31884\n",
            "  warnings.warn(\n"
          ]
        },
        {
          "output_type": "stream",
          "name": "stdout",
          "text": [
            "OPUS-MT Translation: The weather is the last thing that's really wild on Earth.\n",
            "Reference: The weather is the last truly wild thing on Earth.\n",
            "OPUS-MT Translation: We can't predict it and we can't control it.\n",
            "Reference: We can't predict it and we can't control it.\n",
            "OPUS-MT Translation: I'm Donal McIntyre, and I'm gonna travel around the world looking for the most brutal weather there is.\n",
            "Reference: I'm Donal Maclntyre, and I'm going to journey around the world to seek out the wildest weather there is.\n",
            "OPUS-MT Translation: In this chain, I'm gonna face the fastest wind on Earth.\n",
            "Reference: In this series, I'm going to experience the fastest winds on Earth.\n",
            "OPUS-MT Translation: One hundred and thirty-six miles an hour.\n",
            "Reference: 136 miles an hour.\n"
          ]
        }
      ]
    },
    {
      "cell_type": "markdown",
      "source": [
        "In most cases, the OPUS-MT translations seem to be substantially closer to the reference translations than Google Translate.\n",
        "\n",
        "Observations:\n",
        "\n",
        "1- OPUS-MT Translation: \"The weather is the last thing that's really wild on Earth\".\n",
        "\n",
        "Reference: \"The weather is the last truly wild thing on Earth\".\n",
        "\n",
        "Comment: Very similar translation, with very little phrasing differences.\n",
        "\n",
        "2- OPUS-MT Translation: \"We can't predict it and we can't control it\".\n",
        "\n",
        "Reference: \"We can't predict it and we can't control it\".\n",
        "\n",
        "Comment: Excellent translation that precisely corresponds to the reference.\n",
        "\n",
        "3- OPUS-MT Translation: \"I'm Donal McIntyre, and I'm gonna travel around the world looking for the most brutal weather there is\".\n",
        "\n",
        "Reference: \"I'm Donal Maclntyre, and I'm going to journey around the world to seek out the wildest weather there is\".\n",
        "\n",
        "Comment: Although the name is spelled differently, the meaning and sentence form are nearly identical. The choice between \"going to\" and \"wildest\" and \"gonna\" and \"brutal\" is primarily stylistic.\n",
        "\n",
        "4- OPUS-MT Translation: \"In this chain, I'm gonna face the fastest wind on Earth\".\n",
        "\n",
        "Reference: \"In this series, I'm going to experience the fastest winds on Earth\".\n",
        "\n",
        "Comment: Extremely similar yet slightly distinct in \"chain\" versus \"series\" and \"face\" against \"experience\".\n",
        "\n",
        "5- OPUS-MT Translation: \"One hundred and thirty-six miles an hour\".\n",
        "\n",
        "Reference: \"136 miles an hour\".\n",
        "\n",
        "Comment: Perfect translation."
      ],
      "metadata": {
        "id": "27DZCnQ5SGkD"
      }
    },
    {
      "cell_type": "markdown",
      "source": [
        "***Step 4 - Evaluate the results using BLEU score***"
      ],
      "metadata": {
        "id": "tlpvAFDQYgDi"
      }
    },
    {
      "cell_type": "markdown",
      "source": [
        "We used translations for both methods on a corpus sample of sentences.\n",
        "\n",
        "The BLEU score, which assesses how closely the machine translations match the reference sentences, was used to evaluate the quality of the translations."
      ],
      "metadata": {
        "id": "UIyC-mUxWF4O"
      }
    },
    {
      "cell_type": "markdown",
      "source": [
        "In this step, we processed the batches of Arabic sentences from the dataset using both OPUS-MT and Google Translate. Following the generation of the English translations using both tools, we used the BLEU score to assess each translation's quality.\n",
        "\n",
        "In situations where higher-order n-grams (such as 3- or 4-grams) didn't overlap, we employed smoothing, particularly for brief sentences. This solved the problem of such cases receiving 0 BLEU scores.\n",
        "\n"
      ],
      "metadata": {
        "id": "xZb2LuXAY07W"
      }
    },
    {
      "cell_type": "code",
      "source": [
        "#step 4.1 - Google Translate\n",
        "from nltk.translate.bleu_score import sentence_bleu, SmoothingFunction\n",
        "\n",
        "#function to calculate BLEU score with smoothing\n",
        "def calculate_bleu(reference, candidate):\n",
        "    reference = [reference.split()]\n",
        "    candidate = candidate.split()\n",
        "    smoothie = SmoothingFunction().method1  #use smoothing to prevent zero scores\n",
        "    return sentence_bleu(reference, candidate, smoothing_function=smoothie)\n",
        "\n",
        "#evaluate Google Translate translations\n",
        "def evaluate_google_translations(batch):\n",
        "    google_bleu_scores = []\n",
        "\n",
        "    for arabic_sentence, english_reference in batch:\n",
        "        google_translation = google_translate(arabic_sentence)\n",
        "        bleu_google = calculate_bleu(english_reference, google_translation)\n",
        "        google_bleu_scores.append(bleu_google)\n",
        "\n",
        "    return google_bleu_scores\n",
        "\n",
        "#lets take the example - evaluate BLEU scores for Google Translate\n",
        "for batch in load_corpus_in_batches(file_name, batch_size=5):\n",
        "    google_bleu_scores = evaluate_google_translations(batch)\n",
        "    print(f\"Google Translate BLEU Scores (with smoothing): {google_bleu_scores}\")\n",
        "    break\n"
      ],
      "metadata": {
        "colab": {
          "base_uri": "https://localhost:8080/"
        },
        "id": "9ukKc_aBSwOt",
        "outputId": "c409bb68-e3c7-416a-b276-223f250d9cbe"
      },
      "execution_count": 6,
      "outputs": [
        {
          "output_type": "stream",
          "name": "stdout",
          "text": [
            "Google Translate BLEU Scores (with smoothing): [0.3448444257953326, 0.13485111859503685, 0.15071676257541072, 0.12520650587405682, 0.03303164318013808]\n"
          ]
        }
      ]
    },
    {
      "cell_type": "markdown",
      "source": [
        "BLEU Scores for Google Translate:\n",
        "\n",
        "Sentence 1: 0.3448\n",
        "\n",
        "Sentence 2: 0.1348\n",
        "\n",
        "Sentence 3: 0.1507\n",
        "\n",
        "Sentence 4: 0.1252\n",
        "\n",
        "Sentence 5: 0.0330\n",
        "\n",
        "These results indicate that while Google Translate does a fair job on some sentences (particularly sentence 1), it has trouble with others, most notably the last one, where there is a major discrepancy between the translation and the reference."
      ],
      "metadata": {
        "id": "ho84UM_5TUe-"
      }
    },
    {
      "cell_type": "code",
      "source": [
        "#step 4.2 - Bleu score for OPUS-MT Translations\n",
        "#evaluate OPUS-MT translations with smoothing\n",
        "def evaluate_opus_mt_translations(batch):\n",
        "    opus_mt_bleu_scores = []\n",
        "\n",
        "    for arabic_sentence, english_reference in batch:\n",
        "        opus_mt_translation = opus_mt_translate(arabic_sentence)\n",
        "        bleu_opus_mt = calculate_bleu(english_reference, opus_mt_translation)\n",
        "        opus_mt_bleu_scores.append(bleu_opus_mt)\n",
        "\n",
        "    return opus_mt_bleu_scores\n",
        "\n",
        "#lets take an example - evaluate BLEU scores for OPUS-MT with smoothing\n",
        "for batch in load_corpus_in_batches(file_name, batch_size=5):\n",
        "    opus_mt_bleu_scores = evaluate_opus_mt_translations(batch)\n",
        "    print(f\"OPUS-MT BLEU Scores (with smoothing): {opus_mt_bleu_scores}\")\n",
        "    break\n"
      ],
      "metadata": {
        "colab": {
          "base_uri": "https://localhost:8080/"
        },
        "id": "N7EZhkDFSi9F",
        "outputId": "2cbdd58a-b438-4dc3-8cb5-af2653498532"
      },
      "execution_count": 7,
      "outputs": [
        {
          "output_type": "stream",
          "name": "stdout",
          "text": [
            "OPUS-MT BLEU Scores (with smoothing): [0.42969435238201475, 1.0, 0.10952993868133507, 0.06552276436414597, 0.16348126556655487]\n"
          ]
        }
      ]
    },
    {
      "cell_type": "markdown",
      "source": [
        "OPUS-MT BLEU Scores:\n",
        "\n",
        "Sentence 1: 0.4297\n",
        "\n",
        "Sentence 2: 1.0000\n",
        "\n",
        "Sentence 3: 0.1095\n",
        "\n",
        "Sentence 4: 0.0655\n",
        "\n",
        "Sentence 5: 0.1635\n"
      ],
      "metadata": {
        "id": "U9XcuQtwTxLb"
      }
    },
    {
      "cell_type": "markdown",
      "source": [
        "Observations:\n",
        "\n",
        "Sentence 2: The reference translation and OPUS-MT have a perfect match of 1.0. This is probably because there was an exact match in the translation.\n",
        "\n",
        "Sentences 1 and 5: OPUS-MT demonstrated superior alignment with the reference and scored higher than Google Translate.\n",
        "\n",
        "Sentences 3 and 4: Both methods had somewhat poor BLEU ratings for these sentences, although Google Translate did significantly better on them."
      ],
      "metadata": {
        "id": "49D-RYIyTyYI"
      }
    },
    {
      "cell_type": "markdown",
      "source": [
        "***Step 5 - Visualize the Results***"
      ],
      "metadata": {
        "id": "9NGLNcrXjNYE"
      }
    },
    {
      "cell_type": "markdown",
      "source": [
        "In this step, matplotlib was used to create a bar chart that displayed the average BLEU ratings for both OPUS-MT and Google Translate. With the use of this graphical comparison, we were able to determine which tool translated more accurately."
      ],
      "metadata": {
        "id": "3ypnujyDZVdW"
      }
    },
    {
      "cell_type": "code",
      "source": [
        "import matplotlib.pyplot as plt\n",
        "\n",
        "#calculate average BLEU scores\n",
        "avg_bleu_opus_mt = sum(opus_mt_bleu_scores) / len(opus_mt_bleu_scores)\n",
        "avg_bleu_google = sum(google_bleu_scores) / len(google_bleu_scores)\n",
        "\n",
        "#plot the BLEU score comparison\n",
        "def plot_bleu_scores(opus_mt_avg, google_avg):\n",
        "    tools = ['OPUS-MT', 'Google Translate']\n",
        "    bleu_scores = [opus_mt_avg, google_avg]\n",
        "\n",
        "    plt.bar(tools, bleu_scores, color=['blue', 'green'])\n",
        "    plt.ylabel('Average BLEU Score')\n",
        "    plt.title('Average BLEU Score Comparison: OPUS-MT vs Google Translate')\n",
        "    plt.show()\n",
        "\n",
        "#lets plot the BLEU score comparison\n",
        "plot_bleu_scores(avg_bleu_opus_mt, avg_bleu_google)\n"
      ],
      "metadata": {
        "colab": {
          "base_uri": "https://localhost:8080/",
          "height": 452
        },
        "id": "hHimpbNiP1ma",
        "outputId": "e6e4ec47-15df-482a-944a-93d7a60717c7"
      },
      "execution_count": 8,
      "outputs": [
        {
          "output_type": "display_data",
          "data": {
            "text/plain": [
              "<Figure size 640x480 with 1 Axes>"
            ],
            "image/png": "[encoded data removed]"
          },
          "metadata": {}
        }
      ]
    },
    {
      "cell_type": "markdown",
      "source": [
        "Observations:\n",
        "\n",
        "With a far higher average BLEU score, OPUS-MT's translations are generally more in line with the reference translations.\n",
        "\n",
        "With a lower BLEU score, Google Translate's translations diverge further from the translations used as a reference.\n"
      ],
      "metadata": {
        "id": "N3tK9XFzVF9q"
      }
    },
    {
      "cell_type": "markdown",
      "source": [
        "In terms of BLEU scores, the comparison revealed that OPUS-MT performed better than Google Translate, most likely as a result of its specific training on parallel corpora.\n",
        "\n",
        "Lower BLEU scores were the result of Google Translate's frequent deviations in phrase structure and language despite its steady performance."
      ],
      "metadata": {
        "id": "bF6oFq-eWPVT"
      }
    },
    {
      "cell_type": "markdown",
      "source": [
        "***Step 6 - Comment on the results***"
      ],
      "metadata": {
        "id": "76iAl0ZwZi9U"
      }
    },
    {
      "cell_type": "markdown",
      "source": [
        "The outcomes definitely demonstrated that OPUS-MT translated more accurately and in line with the reference translations than Google Translate in terms of BLEU score.\n",
        "\n",
        "Both the graphical representation and the numerical BLEU score comparison made this clear, with OPUS-MT regularly scoring higher."
      ],
      "metadata": {
        "id": "km_StFOcZnpm"
      }
    },
    {
      "cell_type": "markdown",
      "source": [
        "Reason for the Difference:\n",
        "\n",
        "Because OPUS-MT is a specialist tool trained on huge parallel corpora that include high-quality translations from Arabic to English, it outperformed other tools in the task. It is intended specifically for machine translation and employs advanced neural network techniques to produce more contextually correct translations.\n",
        "\n",
        "Conversely, Google Translate is a multifunctional translation tool. Although it is excellent at translating intelligibly in a large number of language pairs, when measured by BLEU scores, which use exact matches as translation references, it may incorporate paraphrasing and stylistic differences that lower its performance.\n",
        "\n",
        "In summary, OPUS-MT is better suited for tasks where precise n-gram alignment is crucial (such as BLEU score evaluations) due to its domain-specific training and emphasis on high-quality parallel data.\n",
        "\n",
        "Despite being helpful in many situations, Google Translate's more general-purpose approach resulted in lower BLEU scores because of its more adaptable (and sometimes less accurate) translation style."
      ],
      "metadata": {
        "id": "vR_o9lG0ZrvM"
      }
    }
  ]
}